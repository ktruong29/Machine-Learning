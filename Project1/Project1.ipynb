{
 "cells": [
  {
   "cell_type": "markdown",
   "metadata": {},
   "source": [
    "Name: Kien Truong\n",
    "<br>\n",
    "CPSC 483-02\n",
    "<br>\n",
    "Professor: Kenytt Avery\n",
    "<br>\n",
    "$$ Project #1 description $$ \n",
    "<br>\n",
    "This project will implement a rudimentary outlier detection algorithm with a given participants.csv file.\n",
    "<br>\n",
    "1. The program will read in a csv file\n",
    "2. Find all the quartiles from Week 1 to Week 3\n",
    "3. Obtain the turkey's fences (k = 1.5)\n",
    "$$ IQR = Q_3 - Q_1 $$\n",
    "$$ Turkey's fence = [Q1 - k(IQR), Q3 + k(IQR)] $$\n",
    "4. Output the students whose attendance fall below the lower fence for each week.\n",
    "5. Define a function $ tardy() $ that combines all the functionalities above. "
   ]
  },
  {
   "cell_type": "code",
   "execution_count": 1,
   "metadata": {
    "scrolled": true
   },
   "outputs": [
    {
     "name": "stdout",
     "output_type": "stream",
     "text": [
      "['Name', 'Week 1', 'Week 2', 'Week 3']\n",
      "['Nora Rutledge', '159', '170', '179']\n",
      "['Reef Tapia', '163', '169', '174']\n",
      "['Kaleb Cummings', '156', '170', '51']\n",
      "['Sameera Knowles', '165', '168', '178']\n",
      "['Chelsea Wiley', '170', '174', '174']\n",
      "['Kezia Graham', '159', '171', '177']\n",
      "['Samiyah Robinson', '163', '167', '173']\n",
      "['Trey Khan', '110', '66', '183']\n",
      "['Jarrod Moon', '167', '170', '170']\n",
      "['Hasan Goulding', '168', '170', '175']\n",
      "['Pooja Thornton', '157', '169', '177']\n",
      "['Taya Curtis', '115', '74', '178']\n",
      "['Wallace Rojas', '91', '35', '180']\n",
      "['Arif Gardner', '172', '175', '170']\n",
      "['Ameerah Fulton', '158', '175', '24']\n",
      "['Sabah Houston', '159', '168', '183']\n",
      "['Mikhail Ashton', '155', '171', '177']\n",
      "['Penny Bass', '167', '168', '178']\n",
      "['Brandon-Lee Bowers', '171', '175', '175']\n",
      "['Isadora Erickson', '169', '171', '175']\n",
      "['Stephanie Hail', '156', '143', '174']\n",
      "['Shelley Wells', '160', '161', '181']\n",
      "['Scarlet Cross', '160', '164', '180']\n",
      "['Gideon Read', '167', '175', '176']\n",
      "['Berat Langley', '165', '174', '174']\n",
      "['Gerrard Soto', '171', '173', '175']\n",
      "['Elyse Richard', '168', '174', '175']\n",
      "['Mikolaj Meyer', '176', '195', '179']\n",
      "['Arman Mackie', '157', '175', '9']\n",
      "['Ellouise Reyes', '165', '174', '170']\n",
      "['Emelie Delacruz', '166', '175', '175']\n",
      "['Ricky Humphreys', '164', '169', '180']\n"
     ]
    }
   ],
   "source": [
    "import csv\n",
    "from statistics import median\n",
    "#QUESTION 1\n",
    "#Using the csv module to load and examine the dataset\n",
    "with open(\"participants.csv\") as csv_file:\n",
    "    csv_reader = csv.reader(csv_file)\n",
    "    for line in csv_reader:\n",
    "        print(line)"
   ]
  },
  {
   "cell_type": "code",
   "execution_count": 2,
   "metadata": {},
   "outputs": [
    {
     "name": "stdout",
     "output_type": "stream",
     "text": [
      "Q1: 157.5 Q2: 163.5 Q3: 167.5\n"
     ]
    }
   ],
   "source": [
    "#QUESTION 2\n",
    "'''\n",
    "----------- Week 1 -----------\n",
    "'''\n",
    "import csv\n",
    "from statistics import median\n",
    "#Finding the quartiles for Week 1\n",
    "L = [] #Stores attendance in a list\n",
    "N = [] #Stores the names of the participants\n",
    "C = [] #Makes a copy of L for consistency with N\n",
    "with open(\"participants.csv\") as csv_file:\n",
    "    csv_reader = csv.reader(csv_file)\n",
    "    next(csv_reader) #Skips the first row (header)\n",
    "    for line in csv_reader:\n",
    "        L.append(int(line[1]))\n",
    "        N.append(line[0])\n",
    "# Makes a copy of L for looping in question 4\n",
    "C = L[:]\n",
    "#Sort the list to find the quartiles for Week 1\n",
    "L.sort()\n",
    "# print(L)\n",
    "Q2 = median(L)\n",
    "# print(Q2)\n",
    "if len(L)%2 == 0:\n",
    "    Q1 = median(L[:len(L)//2])\n",
    "    Q3 = median(L[len(L)//2:])\n",
    "else:\n",
    "    Q1 = median(L[:len(L)//2])\n",
    "    Q3 = median(L[len(L)//2+1:])\n",
    "print('Q1:', Q1, 'Q2:', Q2, 'Q3:', Q3)"
   ]
  },
  {
   "cell_type": "code",
   "execution_count": 3,
   "metadata": {
    "scrolled": true
   },
   "outputs": [
    {
     "name": "stdout",
     "output_type": "stream",
     "text": [
      "Week 1 attendance falls below the bottom fence = 142.5\n",
      "   Name                     Time\n",
      "Trey Khan                   110\n",
      "Taya Curtis                 115\n",
      "Wallace Rojas                91\n"
     ]
    }
   ],
   "source": [
    "#QUESTION 3\n",
    "#Finds turkey's fences\n",
    "IQR = Q3 - Q1\n",
    "lower = Q1 - 1.5*IQR\n",
    "upper = Q3 + 1.5*IQR\n",
    "# print('lower fence:', lower, 'upper fence:',upper)\n",
    "\n",
    "#Output outlier info for Week 1\n",
    "print('Week 1 attendance falls below the bottom fence =', lower)\n",
    "print('{:>7s}'.format(\"Name\"), '{:>24s}'.format('Time'))\n",
    "for i in range(len(C)):\n",
    "    if C[i] < lower:     \n",
    "        print('{:<25s}'.format(N[i]), '{:>5d}'.format(C[i])) "
   ]
  },
  {
   "cell_type": "code",
   "execution_count": 4,
   "metadata": {},
   "outputs": [
    {
     "name": "stdout",
     "output_type": "stream",
     "text": [
      "Q1: 168.0 Q2: 170.0 Q3: 174.0\n",
      "Week 2 attendance falls below the bottom fence = 159.0\n",
      "   Name                     Time\n",
      "Trey Khan                    66\n",
      "Taya Curtis                  74\n",
      "Wallace Rojas                35\n",
      "Stephanie Hail              143\n"
     ]
    }
   ],
   "source": [
    "#QUESTION 4\n",
    "'''\n",
    "----------- Week 2 -----------\n",
    "'''\n",
    "import csv\n",
    "from statistics import median\n",
    "#Finding the quartiles for Week 2\n",
    "L = [] #Stores attendance in a list\n",
    "N = [] #Stores the names of the participants\n",
    "C = [] #Makes a copy of L for consistency with N\n",
    "with open(\"participants.csv\") as csv_file:\n",
    "    csv_reader = csv.reader(csv_file)\n",
    "    next(csv_reader) #Skips the first row (header)\n",
    "    for line in csv_reader:\n",
    "        L.append(int(line[2]))\n",
    "        N.append(line[0])\n",
    "# Makes a copy of L\n",
    "C = L[:]\n",
    "#Sort the list to find the quartiles for Week 2\n",
    "L.sort()\n",
    "# print(L)\n",
    "Q2 = median(L)\n",
    "# print(Q2)\n",
    "if len(L)%2 == 0:\n",
    "    Q1 = median(L[:len(L)//2])\n",
    "    Q3 = median(L[len(L)//2:])\n",
    "else:\n",
    "    Q1 = median(L[:len(L)//2])\n",
    "    Q3 = median(L[len(L)//2+1:])\n",
    "print('Q1:', Q1, 'Q2:', Q2, 'Q3:', Q3)\n",
    "\n",
    "#Finds turkey's fences\n",
    "IQR = Q3 - Q1\n",
    "lower = Q1 - 1.5*IQR\n",
    "upper = Q3 + 1.5*IQR\n",
    "# print('lower fence:', lower, 'upper fence:',upper)\n",
    "\n",
    "#Output outlier info for Week 2\n",
    "print('Week 2 attendance falls below the bottom fence =', lower)\n",
    "print('{:>7s}'.format(\"Name\"), '{:>24s}'.format('Time'))\n",
    "for i in range(len(C)):\n",
    "    if C[i] < lower:     \n",
    "        print('{:<25s}'.format(N[i]), '{:>5d}'.format(C[i])) "
   ]
  },
  {
   "cell_type": "code",
   "execution_count": 5,
   "metadata": {},
   "outputs": [
    {
     "name": "stdout",
     "output_type": "stream",
     "text": [
      "Q1: 174.0 Q2: 175.0 Q3: 178.5\n",
      "Week 3 attendance falls below the bottom fence = 167.25\n",
      "   Name                     Time\n",
      "Kaleb Cummings               51\n",
      "Ameerah Fulton               24\n",
      "Arman Mackie                  9\n"
     ]
    }
   ],
   "source": [
    "'''\n",
    "----------- Week 3 -----------\n",
    "'''\n",
    "import csv\n",
    "from statistics import median\n",
    "#Finding the quartiles for Week 3\n",
    "L = [] #Stores attendance in a list\n",
    "N = [] #Stores the names of the participants\n",
    "C = [] #Makes a copy of L for consistency with N\n",
    "with open(\"participants.csv\") as csv_file:\n",
    "    csv_reader = csv.reader(csv_file)\n",
    "    next(csv_reader) #Skips the first row (header)\n",
    "    for line in csv_reader:\n",
    "        L.append(int(line[3]))\n",
    "        N.append(line[0])\n",
    "# Makes a copy of L\n",
    "C = L[:]\n",
    "#Sort the list to find the quartiles for Week 3\n",
    "L.sort()\n",
    "# print(L)\n",
    "Q2 = median(L)\n",
    "# print(Q2)\n",
    "if len(L)%2 == 0:\n",
    "    Q1 = median(L[:len(L)//2])\n",
    "    Q3 = median(L[len(L)//2:])\n",
    "else:\n",
    "    Q1 = median(L[:len(L)//2])\n",
    "    Q3 = median(L[len(L)//2+1:])\n",
    "print('Q1:', Q1, 'Q2:', Q2, 'Q3:', Q3)\n",
    "\n",
    "#Finds turkey's fences\n",
    "IQR = Q3 - Q1\n",
    "lower = Q1 - 1.5*IQR\n",
    "upper = Q3 + 1.5*IQR\n",
    "# print('lower fence:', lower, 'upper fence:',upper)\n",
    "\n",
    "#Output outlier info for Week 2\n",
    "print('Week 3 attendance falls below the bottom fence =', lower)\n",
    "print('{:>7s}'.format(\"Name\"), '{:>24s}'.format('Time'))\n",
    "for i in range(len(C)):\n",
    "    if C[i] < lower:     \n",
    "        print('{:<25s}'.format(N[i]), '{:>5d}'.format(C[i])) "
   ]
  },
  {
   "cell_type": "code",
   "execution_count": 8,
   "metadata": {},
   "outputs": [],
   "source": [
    "#QUESTION 5\n",
    "import csv\n",
    "from statistics import median\n",
    "#   0       1         2         3\n",
    "#'Name', 'Week 1', 'Week 2', 'Week 3'\n",
    "def tardy():\n",
    "    d = {}\n",
    "    L = []       #stores a list of dictionaries\n",
    "    week_1 = []  #a list of the week 1 attendance\n",
    "    week_2 = []  #a list of the week 2 attendance\n",
    "    week_3 = []  #a list of the week 3 attendance\n",
    "    M = []       #a list of attendance weeks\n",
    "    with open('participants.csv') as csv_file:\n",
    "        data = csv.reader(csv_file)\n",
    "        #Skips the first row (header)\n",
    "        next(data)\n",
    "        for line in data:\n",
    "            d['Name'] = line[0]\n",
    "            d['Week1'] = int(line[1])\n",
    "            d['Week2'] = int(line[2])\n",
    "            d['Week3'] = int(line[3])\n",
    "            d_copy = d.copy()\n",
    "            L.append(d_copy)\n",
    "            week_1.append(int(line[1]))\n",
    "            week_2.append(int(line[2]))\n",
    "            week_3.append(int(line[3]))\n",
    "\n",
    "    week_1.sort()\n",
    "    week_2.sort()\n",
    "    week_3.sort()\n",
    "    M.append(week_1)\n",
    "    M.append(week_2)\n",
    "    M.append(week_3)\n",
    "    \n",
    "    for i in range(len(M)):      \n",
    "        #Finding Q1, Q2, and Q3    \n",
    "        Q2 = median(M[i])\n",
    "        if len(M[i])%2 == 0:\n",
    "            Q1 = median(M[i][:len(M[i])//2])\n",
    "            Q3 = median(M[i][len(M[i])//2:])\n",
    "        else:\n",
    "            Q1 = median(M[i][:len(M[i])//2])\n",
    "            Q3 = median(M[i][len(M[i])//2+1:])\n",
    "        print('Q1 =', Q1, ';', 'Q2 =', Q2, ';', 'Q3 =', Q3)\n",
    "        \n",
    "        #Finds turkey's fences\n",
    "        IQR = Q3 - Q1\n",
    "        lower = Q1 - 1.5*IQR #lower fence\n",
    "        upper = Q3 + 1.5*IQR #upper fence\n",
    "        \n",
    "        print(f'Week {i+1} attendance falls below the bottom fence: {lower}')\n",
    "        print('{:>7s}'.format(\"Name\"), '{:>24s}'.format('Week 1'), '{:>16s}'.format('Week 2'), '{:>13s}'.format('Week 3'))\n",
    "        for j in range(len(L)):\n",
    "            if L[j]['Week'+str((i+1))] < lower:\n",
    "                print('{:<25s}'.format(L[j]['Name']), '{:>5d}'.format(L[j]['Week1']), '{:>15d}'.format(L[j]['Week2']), '{:>14d}'.format(L[j]['Week3']))    \n",
    "        print('\\n')\n",
    "    "
   ]
  },
  {
   "cell_type": "code",
   "execution_count": 9,
   "metadata": {},
   "outputs": [
    {
     "name": "stdout",
     "output_type": "stream",
     "text": [
      "Q1 = 157.5 ; Q2 = 163.5 ; Q3 = 167.5\n",
      "Week 1 attendance falls below the bottom fence: 142.5\n",
      "   Name                   Week 1           Week 2        Week 3\n",
      "Trey Khan                   110              66            183\n",
      "Taya Curtis                 115              74            178\n",
      "Wallace Rojas                91              35            180\n",
      "\n",
      "\n",
      "Q1 = 168.0 ; Q2 = 170.0 ; Q3 = 174.0\n",
      "Week 2 attendance falls below the bottom fence: 159.0\n",
      "   Name                   Week 1           Week 2        Week 3\n",
      "Trey Khan                   110              66            183\n",
      "Taya Curtis                 115              74            178\n",
      "Wallace Rojas                91              35            180\n",
      "Stephanie Hail              156             143            174\n",
      "\n",
      "\n",
      "Q1 = 174.0 ; Q2 = 175.0 ; Q3 = 178.5\n",
      "Week 3 attendance falls below the bottom fence: 167.25\n",
      "   Name                   Week 1           Week 2        Week 3\n",
      "Kaleb Cummings              156             170             51\n",
      "Ameerah Fulton              158             175             24\n",
      "Arman Mackie                157             175              9\n",
      "\n",
      "\n"
     ]
    }
   ],
   "source": [
    "tardy()"
   ]
  },
  {
   "cell_type": "code",
   "execution_count": null,
   "metadata": {},
   "outputs": [],
   "source": []
  }
 ],
 "metadata": {
  "kernelspec": {
   "display_name": "Python 3",
   "language": "python",
   "name": "python3"
  },
  "language_info": {
   "codemirror_mode": {
    "name": "ipython",
    "version": 3
   },
   "file_extension": ".py",
   "mimetype": "text/x-python",
   "name": "python",
   "nbconvert_exporter": "python",
   "pygments_lexer": "ipython3",
   "version": "3.8.5"
  }
 },
 "nbformat": 4,
 "nbformat_minor": 4
}
