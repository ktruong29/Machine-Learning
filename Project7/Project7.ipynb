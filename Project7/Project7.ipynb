{
 "cells": [
  {
   "cell_type": "markdown",
   "metadata": {},
   "source": [
    "Kien Truong\n",
    "<br>\n",
    "CPSC 483-02\n",
    "<br>\n",
    "Professor Avery\n",
    "<br>\n",
    "Due date: 5/21/2021\n",
    "<br>\n",
    "$$ Project#7 description $$\n",
    "<br>\n",
    "This project will utilize different clustering algorithms to segment customers based on their purchasing data."
   ]
  },
  {
   "cell_type": "code",
   "execution_count": 1,
   "metadata": {},
   "outputs": [
    {
     "data": {
      "text/html": [
       "<div>\n",
       "<style scoped>\n",
       "    .dataframe tbody tr th:only-of-type {\n",
       "        vertical-align: middle;\n",
       "    }\n",
       "\n",
       "    .dataframe tbody tr th {\n",
       "        vertical-align: top;\n",
       "    }\n",
       "\n",
       "    .dataframe thead th {\n",
       "        text-align: right;\n",
       "    }\n",
       "</style>\n",
       "<table border=\"1\" class=\"dataframe\">\n",
       "  <thead>\n",
       "    <tr style=\"text-align: right;\">\n",
       "      <th></th>\n",
       "      <th>apples</th>\n",
       "      <th>bananas</th>\n",
       "      <th>beer</th>\n",
       "      <th>bread</th>\n",
       "      <th>broccoli</th>\n",
       "      <th>diapers</th>\n",
       "      <th>eggs</th>\n",
       "      <th>milk</th>\n",
       "      <th>potatoes</th>\n",
       "      <th>steak</th>\n",
       "    </tr>\n",
       "  </thead>\n",
       "  <tbody>\n",
       "    <tr>\n",
       "      <th>0</th>\n",
       "      <td>0</td>\n",
       "      <td>0</td>\n",
       "      <td>0</td>\n",
       "      <td>0</td>\n",
       "      <td>13</td>\n",
       "      <td>0</td>\n",
       "      <td>16</td>\n",
       "      <td>8</td>\n",
       "      <td>0</td>\n",
       "      <td>17</td>\n",
       "    </tr>\n",
       "    <tr>\n",
       "      <th>1</th>\n",
       "      <td>11</td>\n",
       "      <td>12</td>\n",
       "      <td>7</td>\n",
       "      <td>9</td>\n",
       "      <td>0</td>\n",
       "      <td>26</td>\n",
       "      <td>7</td>\n",
       "      <td>6</td>\n",
       "      <td>5</td>\n",
       "      <td>2</td>\n",
       "    </tr>\n",
       "    <tr>\n",
       "      <th>2</th>\n",
       "      <td>14</td>\n",
       "      <td>13</td>\n",
       "      <td>6</td>\n",
       "      <td>12</td>\n",
       "      <td>0</td>\n",
       "      <td>30</td>\n",
       "      <td>8</td>\n",
       "      <td>6</td>\n",
       "      <td>4</td>\n",
       "      <td>2</td>\n",
       "    </tr>\n",
       "    <tr>\n",
       "      <th>3</th>\n",
       "      <td>0</td>\n",
       "      <td>0</td>\n",
       "      <td>17</td>\n",
       "      <td>1</td>\n",
       "      <td>0</td>\n",
       "      <td>0</td>\n",
       "      <td>0</td>\n",
       "      <td>0</td>\n",
       "      <td>3</td>\n",
       "      <td>22</td>\n",
       "    </tr>\n",
       "    <tr>\n",
       "      <th>4</th>\n",
       "      <td>0</td>\n",
       "      <td>0</td>\n",
       "      <td>45</td>\n",
       "      <td>1</td>\n",
       "      <td>0</td>\n",
       "      <td>0</td>\n",
       "      <td>0</td>\n",
       "      <td>0</td>\n",
       "      <td>5</td>\n",
       "      <td>27</td>\n",
       "    </tr>\n",
       "    <tr>\n",
       "      <th>...</th>\n",
       "      <td>...</td>\n",
       "      <td>...</td>\n",
       "      <td>...</td>\n",
       "      <td>...</td>\n",
       "      <td>...</td>\n",
       "      <td>...</td>\n",
       "      <td>...</td>\n",
       "      <td>...</td>\n",
       "      <td>...</td>\n",
       "      <td>...</td>\n",
       "    </tr>\n",
       "    <tr>\n",
       "      <th>283</th>\n",
       "      <td>8</td>\n",
       "      <td>10</td>\n",
       "      <td>0</td>\n",
       "      <td>0</td>\n",
       "      <td>16</td>\n",
       "      <td>0</td>\n",
       "      <td>0</td>\n",
       "      <td>0</td>\n",
       "      <td>8</td>\n",
       "      <td>0</td>\n",
       "    </tr>\n",
       "    <tr>\n",
       "      <th>284</th>\n",
       "      <td>0</td>\n",
       "      <td>0</td>\n",
       "      <td>0</td>\n",
       "      <td>0</td>\n",
       "      <td>14</td>\n",
       "      <td>0</td>\n",
       "      <td>12</td>\n",
       "      <td>7</td>\n",
       "      <td>0</td>\n",
       "      <td>16</td>\n",
       "    </tr>\n",
       "    <tr>\n",
       "      <th>285</th>\n",
       "      <td>0</td>\n",
       "      <td>0</td>\n",
       "      <td>23</td>\n",
       "      <td>0</td>\n",
       "      <td>0</td>\n",
       "      <td>0</td>\n",
       "      <td>0</td>\n",
       "      <td>0</td>\n",
       "      <td>4</td>\n",
       "      <td>17</td>\n",
       "    </tr>\n",
       "    <tr>\n",
       "      <th>286</th>\n",
       "      <td>3</td>\n",
       "      <td>14</td>\n",
       "      <td>0</td>\n",
       "      <td>0</td>\n",
       "      <td>20</td>\n",
       "      <td>0</td>\n",
       "      <td>0</td>\n",
       "      <td>0</td>\n",
       "      <td>8</td>\n",
       "      <td>0</td>\n",
       "    </tr>\n",
       "    <tr>\n",
       "      <th>287</th>\n",
       "      <td>0</td>\n",
       "      <td>0</td>\n",
       "      <td>0</td>\n",
       "      <td>0</td>\n",
       "      <td>17</td>\n",
       "      <td>0</td>\n",
       "      <td>14</td>\n",
       "      <td>4</td>\n",
       "      <td>0</td>\n",
       "      <td>21</td>\n",
       "    </tr>\n",
       "  </tbody>\n",
       "</table>\n",
       "<p>288 rows × 10 columns</p>\n",
       "</div>"
      ],
      "text/plain": [
       "     apples  bananas  beer  bread  broccoli  diapers  eggs  milk  potatoes  \\\n",
       "0         0        0     0      0        13        0    16     8         0   \n",
       "1        11       12     7      9         0       26     7     6         5   \n",
       "2        14       13     6     12         0       30     8     6         4   \n",
       "3         0        0    17      1         0        0     0     0         3   \n",
       "4         0        0    45      1         0        0     0     0         5   \n",
       "..      ...      ...   ...    ...       ...      ...   ...   ...       ...   \n",
       "283       8       10     0      0        16        0     0     0         8   \n",
       "284       0        0     0      0        14        0    12     7         0   \n",
       "285       0        0    23      0         0        0     0     0         4   \n",
       "286       3       14     0      0        20        0     0     0         8   \n",
       "287       0        0     0      0        17        0    14     4         0   \n",
       "\n",
       "     steak  \n",
       "0       17  \n",
       "1        2  \n",
       "2        2  \n",
       "3       22  \n",
       "4       27  \n",
       "..     ...  \n",
       "283      0  \n",
       "284     16  \n",
       "285     17  \n",
       "286      0  \n",
       "287     21  \n",
       "\n",
       "[288 rows x 10 columns]"
      ]
     },
     "execution_count": 1,
     "metadata": {},
     "output_type": "execute_result"
    }
   ],
   "source": [
    "'''\n",
    "Question 1 - Load the dataset\n",
    "'''\n",
    "import pandas as pd\n",
    "data = pd.read_csv('spending.csv')\n",
    "data"
   ]
  },
  {
   "cell_type": "code",
   "execution_count": 2,
   "metadata": {},
   "outputs": [
    {
     "data": {
      "text/plain": [
       "array([5, 7, 1, 4, 2, 6, 5, 3, 2, 1, 6, 0, 3, 2, 4, 0, 0, 5, 6, 3, 6, 3,\n",
       "       1, 7, 3, 6, 7, 3, 2, 6, 5, 5, 3, 0, 3, 0, 2, 1, 0, 3, 6, 0, 6, 4,\n",
       "       6, 3, 0, 1, 3, 5, 0, 3, 3, 4, 3, 3, 3, 7, 2, 5, 0, 5, 5, 5, 5, 0,\n",
       "       3, 0, 5, 6, 2, 0, 0, 5, 3, 3, 2, 7, 0, 0, 6, 2, 4, 1, 1, 0, 5, 2,\n",
       "       4, 2, 4, 1, 1, 7, 3, 0, 0, 0, 0, 0, 5, 3, 1, 6, 3, 1, 7, 0, 6, 6,\n",
       "       0, 0, 0, 5, 0, 2, 6, 5, 3, 5, 3, 4, 3, 3, 2, 6, 4, 1, 5, 1, 5, 3,\n",
       "       1, 7, 6, 0, 0, 5, 4, 5, 5, 3, 5, 6, 3, 3, 3, 0, 5, 7, 3, 3, 3, 5,\n",
       "       3, 0, 6, 1, 2, 1, 1, 0, 7, 0, 3, 5, 5, 3, 0, 5, 7, 3, 2, 3, 3, 0,\n",
       "       1, 2, 6, 0, 0, 3, 3, 3, 1, 1, 6, 4, 4, 1, 7, 0, 4, 4, 7, 7, 0, 0,\n",
       "       1, 3, 6, 2, 5, 6, 6, 3, 3, 6, 3, 2, 6, 6, 6, 5, 5, 7, 1, 5, 3, 6,\n",
       "       0, 5, 5, 0, 5, 6, 3, 0, 2, 5, 2, 5, 1, 1, 7, 1, 5, 0, 6, 6, 3, 1,\n",
       "       6, 2, 1, 1, 1, 3, 5, 3, 3, 3, 1, 0, 5, 3, 5, 4, 0, 5, 3, 6, 7, 2,\n",
       "       2, 0, 0, 1, 0, 6, 3, 2, 0, 5, 1, 5, 1, 3, 1, 3, 5, 3, 0, 3, 5, 4,\n",
       "       3, 0])"
      ]
     },
     "execution_count": 2,
     "metadata": {},
     "output_type": "execute_result"
    }
   ],
   "source": [
    "'''\n",
    "Question 2 - Cluster the dataset using the default parameters\n",
    "'''\n",
    "from sklearn.cluster import KMeans\n",
    "\n",
    "kmeans = KMeans().fit(data)\n",
    "kmeans.labels_"
   ]
  },
  {
   "cell_type": "markdown",
   "metadata": {},
   "source": [
    "There are 8 clusters in the dataset"
   ]
  },
  {
   "cell_type": "code",
   "execution_count": 3,
   "metadata": {},
   "outputs": [
    {
     "name": "stdout",
     "output_type": "stream",
     "text": [
      "Max:\n",
      "    apples  bananas  beer  bread  broccoli  diapers  eggs  milk  potatoes  \\\n",
      "0       0        0     0      0        18        0    20    12         0   \n",
      "1      16       16    12     20         0       44    12    12        10   \n",
      "2       0        0    50      8         0        0     0     0         8   \n",
      "3      14       17     0      0        22        0     0     0        15   \n",
      "4       0        0    23      5         0        0     0     0         8   \n",
      "5       0        0     0      0        16        0    18     9         0   \n",
      "6       0        0    34      6         0        0     0     0         8   \n",
      "7      18       13    12     16         0       28    15    12         8   \n",
      "\n",
      "   steak  \n",
      "0     33  \n",
      "1      6  \n",
      "2     44  \n",
      "3      0  \n",
      "4     36  \n",
      "5     20  \n",
      "6     45  \n",
      "7      6   \n",
      "\n",
      "Min:\n",
      "    apples  bananas  beer  bread  broccoli  diapers  eggs  milk  potatoes  \\\n",
      "0       0        0     0      0         3        0    10     0         0   \n",
      "1       7        5     4      5         0       28     0     5         1   \n",
      "2       0        0    34      0         0        0     0     0         0   \n",
      "3       1        0     0      0         8        0     0     0         5   \n",
      "4       0        0     0      0         0        0     0     0         2   \n",
      "5       0        0     0      0         4        0    10     0         0   \n",
      "6       0        0    20      0         0        0     0     0         1   \n",
      "7       6        7     5      7         0       17     2     4         1   \n",
      "\n",
      "   steak  \n",
      "0     19  \n",
      "1      0  \n",
      "2     23  \n",
      "3      0  \n",
      "4     17  \n",
      "5      8  \n",
      "6     23  \n",
      "7      0   \n",
      "\n",
      "Average:\n",
      "       apples    bananas       beer      bread   broccoli    diapers  \\\n",
      "0   0.000000   0.000000   0.000000   0.000000  11.769231   0.000000   \n",
      "1  11.285714   9.800000   7.885714  12.857143   0.000000  32.428571   \n",
      "2   0.000000   0.000000  39.208333   2.750000   0.000000   0.000000   \n",
      "3   7.064516   7.435484   0.000000   0.000000  14.661290   0.000000   \n",
      "4   0.000000   0.000000  14.125000   1.937500   0.000000   0.000000   \n",
      "5   0.000000   0.000000   0.000000   0.000000  10.361702   0.000000   \n",
      "6   0.000000   0.000000  28.228571   2.571429   0.000000   0.000000   \n",
      "7  12.058824  10.176471   7.588235  11.882353   0.000000  23.647059   \n",
      "\n",
      "        eggs      milk  potatoes      steak  \n",
      "0  14.692308  4.519231  0.000000  23.711538  \n",
      "1   6.971429  7.685714  4.228571   2.685714  \n",
      "2   0.000000  0.000000  4.333333  30.416667  \n",
      "3   0.000000  0.000000  9.532258   0.000000  \n",
      "4   0.000000  0.000000  4.062500  26.250000  \n",
      "5  14.276596  4.106383  0.000000  16.063830  \n",
      "6   0.000000  0.000000  4.685714  29.542857  \n",
      "7   7.117647  7.588235  3.823529   2.764706  \n"
     ]
    }
   ],
   "source": [
    "'''\n",
    "Question 3 - Use groupby() to group the data by cluster assignment, then use the GroupBy object to examine \n",
    "             descriptive statistics: max, min, and avg.\n",
    "             Describe any differences you see between the clusters.\n",
    "'''\n",
    "group = data.groupby(kmeans.labels_)\n",
    "maximum = group.max()\n",
    "minimum = group.min()\n",
    "avg = group.mean()\n",
    "print(\"Max:\\n\", maximum, '\\n')\n",
    "print(\"Min:\\n\", minimum, '\\n')\n",
    "print(\"Average:\\n\", avg)"
   ]
  },
  {
   "cell_type": "markdown",
   "metadata": {},
   "source": [
    "Each cluster is a subset of the original attributes. Customers that belong to one cluster will have similar purchasing habits. For instance, customers belong to cluster 0 would like to purchase beer, bread, potatoes, and steak; they would not purchase apples, bananas, broccoli, diapers, and milk. "
   ]
  },
  {
   "cell_type": "code",
   "execution_count": 4,
   "metadata": {},
   "outputs": [
    {
     "data": {
      "image/png": "[encoded data removed]",
      "text/plain": [
       "<Figure size 1080x1080 with 4 Axes>"
      ]
     },
     "metadata": {
      "needs_background": "light"
     },
     "output_type": "display_data"
    }
   ],
   "source": [
    "'''\n",
    "Question 4 - Plot four dendrograms using complete, single, average, and centroid linkage.\n",
    "             Based on the plots, how many clusters appear to be present in the dataset?\n",
    "'''\n",
    "from scipy.cluster import hierarchy\n",
    "import matplotlib.pyplot as plt\n",
    "'''\n",
    "----- Single linkage -----\n",
    "'''\n",
    "Z_single = hierarchy.linkage(data, 'single')\n",
    "#Generating 4 subplots for 4 linkages\n",
    "fig, axes = plt.subplots(2, 2, figsize=(15,15))\n",
    "axes[0,0].set_title(\"Single linkage\")\n",
    "axes[0,1].set_title(\"Complete linkage\")\n",
    "axes[1,1].set_title(\"Centroid linkage\")\n",
    "axes[1,0].set_title(\"Average linkage\")\n",
    "\n",
    "dn1 = hierarchy.dendrogram(Z_single, ax=axes[0,0])\n",
    "'''\n",
    "----- Complete linkage -----\n",
    "'''\n",
    "Z_complete = hierarchy.linkage(data, 'complete')\n",
    "dn2 = hierarchy.dendrogram(Z_complete, ax=axes[0,1])\n",
    "\n",
    "'''\n",
    "----- Average linkage -----\n",
    "'''\n",
    "Z_avg = hierarchy.linkage(data, 'average')\n",
    "dn3 = hierarchy.dendrogram(Z_avg, ax=axes[1,0])\n",
    "\n",
    "'''\n",
    "----- Centroid linkage -----\n",
    "'''\n",
    "Z_centroid = hierarchy.linkage(data, 'centroid')\n",
    "dn4 = hierarchy.dendrogram(Z_centroid, ax=axes[1,1])"
   ]
  },
  {
   "cell_type": "markdown",
   "metadata": {},
   "source": [
    "There are approximately 4-5 clusters appear to be present in the dataset."
   ]
  },
  {
   "cell_type": "code",
   "execution_count": 5,
   "metadata": {},
   "outputs": [
    {
     "data": {
      "text/plain": [
       "array([0, 1, 1, 2, 2, 2, 0, 3, 2, 1, 2, 0, 3, 2, 2, 0, 0, 0, 2, 3, 2, 3,\n",
       "       1, 1, 3, 2, 1, 3, 2, 2, 0, 0, 3, 0, 3, 0, 2, 1, 0, 3, 2, 0, 2, 0,\n",
       "       2, 3, 0, 1, 3, 0, 0, 3, 3, 2, 3, 3, 3, 1, 2, 0, 0, 0, 0, 0, 0, 0,\n",
       "       3, 0, 0, 2, 2, 0, 0, 0, 3, 3, 2, 1, 0, 0, 2, 2, 2, 1, 1, 0, 0, 2,\n",
       "       0, 2, 2, 1, 1, 1, 3, 0, 0, 0, 0, 0, 0, 3, 1, 2, 3, 1, 1, 0, 2, 2,\n",
       "       0, 0, 0, 0, 0, 2, 2, 0, 3, 0, 3, 2, 3, 3, 2, 2, 2, 1, 0, 1, 0, 3,\n",
       "       1, 1, 2, 0, 0, 0, 2, 0, 0, 3, 0, 2, 3, 3, 3, 0, 0, 1, 3, 3, 3, 0,\n",
       "       3, 0, 2, 1, 2, 1, 1, 0, 1, 0, 3, 0, 0, 3, 0, 0, 1, 3, 2, 3, 3, 0,\n",
       "       1, 2, 2, 0, 0, 3, 3, 3, 1, 1, 2, 2, 2, 1, 1, 0, 2, 2, 1, 1, 0, 0,\n",
       "       1, 3, 2, 2, 0, 2, 2, 3, 3, 2, 3, 2, 2, 2, 2, 0, 0, 1, 1, 0, 3, 2,\n",
       "       0, 0, 0, 0, 0, 2, 3, 0, 2, 0, 2, 0, 1, 1, 1, 1, 0, 0, 2, 2, 3, 1,\n",
       "       2, 2, 1, 1, 1, 3, 0, 3, 3, 3, 1, 0, 0, 3, 0, 2, 0, 0, 3, 2, 1, 2,\n",
       "       2, 0, 0, 1, 0, 2, 3, 2, 0, 0, 1, 0, 1, 3, 1, 3, 0, 3, 0, 3, 0, 2,\n",
       "       3, 0])"
      ]
     },
     "execution_count": 5,
     "metadata": {},
     "output_type": "execute_result"
    }
   ],
   "source": [
    "'''\n",
    "Question 5 - Repeat experiment (2) using the number of clusters you determined to be present in experiment (4).\n",
    "'''\n",
    "from sklearn.cluster import KMeans\n",
    "\n",
    "kmeans = KMeans(n_clusters=4).fit(data)\n",
    "kmeans.labels_"
   ]
  },
  {
   "cell_type": "code",
   "execution_count": 6,
   "metadata": {},
   "outputs": [
    {
     "data": {
      "text/plain": [
       "array([1, 2, 2, 0, 0, 0, 1, 3, 0, 2, 0, 1, 3, 0, 0, 1, 1, 1, 0, 3, 0, 3,\n",
       "       2, 2, 3, 0, 2, 3, 0, 0, 1, 1, 3, 1, 3, 1, 0, 2, 1, 3, 0, 1, 0, 0,\n",
       "       0, 3, 1, 2, 3, 1, 1, 3, 3, 0, 3, 3, 3, 2, 0, 1, 1, 1, 1, 1, 1, 1,\n",
       "       3, 1, 1, 0, 0, 1, 1, 1, 3, 3, 0, 2, 1, 1, 0, 0, 0, 2, 2, 1, 1, 0,\n",
       "       0, 0, 0, 2, 2, 2, 3, 1, 1, 1, 1, 1, 1, 3, 2, 0, 3, 2, 2, 1, 0, 0,\n",
       "       1, 1, 1, 1, 1, 0, 0, 1, 3, 1, 3, 0, 3, 3, 0, 0, 0, 2, 1, 2, 1, 3,\n",
       "       2, 2, 0, 1, 1, 1, 0, 1, 1, 3, 1, 0, 3, 3, 3, 1, 1, 2, 3, 3, 3, 1,\n",
       "       3, 1, 0, 2, 0, 2, 2, 1, 2, 1, 3, 1, 1, 3, 1, 1, 2, 3, 0, 3, 3, 1,\n",
       "       2, 0, 0, 1, 1, 3, 3, 3, 2, 2, 0, 0, 0, 2, 2, 1, 0, 0, 2, 2, 1, 1,\n",
       "       2, 3, 0, 0, 1, 0, 0, 3, 3, 0, 3, 0, 0, 0, 0, 1, 1, 2, 2, 1, 3, 0,\n",
       "       1, 1, 1, 1, 1, 0, 3, 1, 0, 1, 0, 1, 2, 2, 2, 2, 1, 1, 0, 0, 3, 2,\n",
       "       0, 0, 2, 2, 2, 3, 1, 3, 3, 3, 2, 1, 1, 3, 1, 0, 1, 1, 3, 0, 2, 0,\n",
       "       0, 1, 1, 2, 1, 0, 3, 0, 1, 1, 2, 1, 2, 3, 2, 3, 1, 3, 1, 3, 1, 0,\n",
       "       3, 1], dtype=int64)"
      ]
     },
     "execution_count": 6,
     "metadata": {},
     "output_type": "execute_result"
    }
   ],
   "source": [
    "'''\n",
    "Question 6 - Use AgglomerativeClustering() and repeat for the same number of clusters.\n",
    "'''\n",
    "from sklearn.cluster import AgglomerativeClustering\n",
    "\n",
    "clustering = AgglomerativeClustering(n_clusters=4).fit(data)\n",
    "clustering.labels_"
   ]
  },
  {
   "cell_type": "markdown",
   "metadata": {},
   "source": [
    "For different algorithms, the label assignments are different. However, it seems like both algorithms classify points to be in the same cluster that they belong to in the previous experiement. For instance, comparing the first 8 observations in the agglomerative clustering algorithm ([1,2,2,0,0,0,1,3]) to the K-means clustering algorithm obtained in experiment 5 ([0,1,1,2,2,2,0,3]), there's a pattern in the label assignments. Class 1, 2, 0, and 3 in K-means are the same as class 0, 1, 2, and 3 in agglomerative clustering respectively. "
   ]
  },
  {
   "cell_type": "code",
   "execution_count": 7,
   "metadata": {},
   "outputs": [
    {
     "name": "stdout",
     "output_type": "stream",
     "text": [
      "Max:\n",
      "    apples  bananas  beer  bread  broccoli  diapers  eggs  milk  potatoes  \\\n",
      "0       0        0     6      3        18        0    20    12         5   \n",
      "1      18       16    12     20         0       44    15    12        10   \n",
      "2       0        0    50      8         0        0     0     0         8   \n",
      "3      14       17     0      0        22        0     0     0        15   \n",
      "\n",
      "   steak  \n",
      "0     33  \n",
      "1      6  \n",
      "2     45  \n",
      "3      0   \n",
      "\n",
      "Min:\n",
      "    apples  bananas  beer  bread  broccoli  diapers  eggs  milk  potatoes  \\\n",
      "0       0        0     0      0         0        0     0     0         0   \n",
      "1       6        5     4      5         0       17     0     4         1   \n",
      "2       0        0     6      0         0        0     0     0         0   \n",
      "3       1        0     0      0         8        0     0     0         5   \n",
      "\n",
      "   steak  \n",
      "0      8  \n",
      "1      0  \n",
      "2     17  \n",
      "3      0   \n",
      "\n",
      "Average:\n",
      "       apples   bananas       beer      bread   broccoli    diapers       eggs  \\\n",
      "0   0.000000  0.000000   0.059406   0.039604  10.881188   0.000000  14.207921   \n",
      "1  11.538462  9.923077   7.788462  12.538462   0.000000  29.557692   7.019231   \n",
      "2   0.000000  0.000000  29.438356   2.506849   0.000000   0.000000   0.000000   \n",
      "3   7.064516  7.435484   0.000000   0.000000  14.661290   0.000000   0.000000   \n",
      "\n",
      "       milk  potatoes      steak  \n",
      "0  4.237624  0.069307  20.138614  \n",
      "1  7.653846  4.096154   2.711538  \n",
      "2  0.000000  4.465753  29.287671  \n",
      "3  0.000000  9.532258   0.000000  \n"
     ]
    }
   ],
   "source": [
    "'''\n",
    "Question 7 - Repeat experiment (3) with the clusters you obtained in experiment (5). \n",
    "             How would you describe the various types of customers? \n",
    "             What can you determine about them based on the data?\n",
    "'''\n",
    "group = data.groupby(kmeans.labels_)\n",
    "maximum = group.max()\n",
    "minimum = group.min()\n",
    "avg = group.mean()\n",
    "print(\"Max:\\n\", maximum, '\\n')\n",
    "print(\"Min:\\n\", minimum, '\\n')\n",
    "print(\"Average:\\n\", avg)"
   ]
  },
  {
   "cell_type": "markdown",
   "metadata": {},
   "source": [
    "Various types of customers can be described by the number of clusters obtained above. Customer preferences can be classified by choosing the non-zero values based on the min, max, and mean."
   ]
  },
  {
   "cell_type": "code",
   "execution_count": 8,
   "metadata": {},
   "outputs": [
    {
     "data": {
      "text/plain": [
       "'\\nQuestion 8 - For each customer segment identified, suggest some other items they would and would not be \\n             likely to purchase in future shopping trips.\\n'"
      ]
     },
     "execution_count": 8,
     "metadata": {},
     "output_type": "execute_result"
    }
   ],
   "source": [
    "'''\n",
    "Question 8 - For each customer segment identified, suggest some other items they would and would not be \n",
    "             likely to purchase in future shopping trips.\n",
    "'''"
   ]
  },
  {
   "cell_type": "markdown",
   "metadata": {},
   "source": [
    "Group 1: The customer would buy steak, broccoli, eggs, beer, bread, milk, potatoes; they would not be likely to purchase apples, bananas, diapers. This group targets customers that don't like fruits and diapers.\n",
    "<br>\n",
    "Group 2: The customer would buy apples, bananas, beer, bread, diapers, eggs, milk, potatoes, and steak; they would not be likely to purchase broccoli. This group targets families that have kids.\n",
    "<br>\n",
    "Group 3: The customer would buy beer, bread, potatoes, and steak; they would not be likely to purchase apples, bananas, broccoli, eggs, and milk. This group targets customers that are on high carb diets and may be for alcoholics as well?\n",
    "<br>\n",
    "Group 4: The customer would buy apples, bananas, broccoli, and potatoes; they would not be likely to purchase beer, bread, diapers, eggs, milk, and steak. This group targets vegetarians."
   ]
  },
  {
   "cell_type": "code",
   "execution_count": null,
   "metadata": {},
   "outputs": [],
   "source": []
  }
 ],
 "metadata": {
  "kernelspec": {
   "display_name": "Python 3",
   "language": "python",
   "name": "python3"
  },
  "language_info": {
   "codemirror_mode": {
    "name": "ipython",
    "version": 3
   },
   "file_extension": ".py",
   "mimetype": "text/x-python",
   "name": "python",
   "nbconvert_exporter": "python",
   "pygments_lexer": "ipython3",
   "version": "3.8.5"
  }
 },
 "nbformat": 4,
 "nbformat_minor": 4
}
